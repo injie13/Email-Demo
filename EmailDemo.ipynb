{
 "cells": [
  {
   "cell_type": "code",
   "execution_count": 1,
   "id": "7f7f05ad-c643-4c98-b557-00b49fd13fa3",
   "metadata": {},
   "outputs": [],
   "source": [
    "import queue\n",
    "import time\n",
    "import csv\n",
    "import threading"
   ]
  },
  {
   "cell_type": "code",
   "execution_count": 2,
   "id": "e6e18bed-b049-4abb-8599-19cdf4bc9320",
   "metadata": {},
   "outputs": [],
   "source": [
    "class Message:\n",
    "    \"\"\"Represents an email message with sender, recipient, and text content\"\"\"\n",
    "    def __init__(self, sender, recipient, text):\n",
    "        \"\"\"Initializes a new instance for the message class\"\"\"\n",
    "        self.sender = sender\n",
    "        self.recipient = recipient\n",
    "        self.text = text"
   ]
  },
  {
   "cell_type": "code",
   "execution_count": 3,
   "id": "8ffa85fe-3a8a-4c66-895c-a33d8e76151d",
   "metadata": {},
   "outputs": [],
   "source": [
    "class ServerEmail:\n",
    "    \"\"\"Represents an email manages a message queue (inbox) and processes messages,\n",
    "    logging each transaction to a csv file.\"\"\"\n",
    "    def __init__(self):\n",
    "        \"\"\"Initializes a new instance for the ServerEmail class\"\"\"\n",
    "        self.inbox = queue.Queue()\n",
    "        self.log_file = 'email_transaction.csv'\n",
    "        self.server_thread = threading.Thread(target=self.run_server, daemon=True) # 'deamon=True' allows main program to exit\n",
    "        self.server_thread.start()\n",
    "\n",
    "    def send(self, message):\n",
    "        \"\"\"Adds a message to the server's inbox\"\"\"\n",
    "        self.inbox.put(message)\n",
    "\n",
    "    def run_server(self):\n",
    "        \"\"\"Processes messages in the inbox at 4-second intervals, logging each transaction.\n",
    "        The server closes after 20 messages are processed.\"\"\"\n",
    "        with open(self.log_file, mode='w', newline='') as file:\n",
    "            writer = csv.writer(file)\n",
    "            writer.writerow(['Sender', 'Recipient', 'Time'])\n",
    "            for _ in range(20):\n",
    "                if not self.inbox.empty():\n",
    "                    message = self.inbox.get()\n",
    "                    now = time.strftime('%Y-%m-%d %H:%M:%S') #A 'strftime'(string format time) to display all the time components.\n",
    "                    writer.writerow([message.sender, message.recipient, now])\n",
    "                # Simulate sending the message with no-op\n",
    "                time.sleep(4)"
   ]
  },
  {
   "cell_type": "code",
   "execution_count": 4,
   "id": "afb8a73b-9f6b-4f17-b834-50794f1a78c3",
   "metadata": {},
   "outputs": [
    {
     "name": "stdout",
     "output_type": "stream",
     "text": [
      "Help on function run_server in module __main__:\n",
      "\n",
      "run_server(self)\n",
      "    Processes messages in the inbox at 4-second intervals, logging each transaction.\n",
      "    The server closes after 20 messages are processed.\n",
      "\n"
     ]
    }
   ],
   "source": [
    "help(ServerEmail.run_server)"
   ]
  },
  {
   "cell_type": "code",
   "execution_count": 5,
   "id": "5b061b72-ab8a-4efe-aa30-2b8e44a60e95",
   "metadata": {},
   "outputs": [],
   "source": [
    "class Client:\n",
    "    \"\"\"Represents an email client that sends messages to an email server at specific time intervals\"\"\"\n",
    "    def __init__(self, name, server, delay):\n",
    "        \"\"\"Initializes a new instance of the Client class.\"\"\"\n",
    "        self.name = name\n",
    "        self.server = server\n",
    "        self.delay = delay\n",
    "        self.client_thread = threading.Thread(target=self.run_client, daemon=True)\n",
    "        self.client_thread.start()\n",
    "\n",
    "    def run_client(self):\n",
    "        \"\"\"Sends 10 messages to the server, with a delay in between each message.\"\"\"\n",
    "        message = Message(self.name, 'Server', f'Hey, are you recieving my email? This is message [i]')\n",
    "        self.server.send(message)\n",
    "        time.sleep(self.delay)\n",
    "        \n",
    "        "
   ]
  },
  {
   "cell_type": "markdown",
   "id": "07c7aba1-4afa-4a60-bda5-6707665acc7f",
   "metadata": {},
   "source": [
    "# Simulator"
   ]
  },
  {
   "cell_type": "code",
   "execution_count": 6,
   "id": "d415c6cf-49fa-4b9f-9f0f-d01f58ffdd50",
   "metadata": {},
   "outputs": [],
   "source": [
    "def simulation():\n",
    "    \"\"\"Sets up simulation with one server and two clients(Martin and Philip), \n",
    "    each with a specific delay period.\"\"\"\n",
    "    server = ServerEmail()\n",
    "    client_martin = Client('Martin', server, 3)\n",
    "    client_philip = Client('Philip', server, 5)\n",
    "\n",
    "simulation()"
   ]
  },
  {
   "cell_type": "code",
   "execution_count": null,
   "id": "a3315000-ae18-4ca8-a094-a7d1a4f0bf89",
   "metadata": {},
   "outputs": [],
   "source": []
  }
 ],
 "metadata": {
  "kernelspec": {
   "display_name": "Python 3 (ipykernel)",
   "language": "python",
   "name": "python3"
  },
  "language_info": {
   "codemirror_mode": {
    "name": "ipython",
    "version": 3
   },
   "file_extension": ".py",
   "mimetype": "text/x-python",
   "name": "python",
   "nbconvert_exporter": "python",
   "pygments_lexer": "ipython3",
   "version": "3.11.8"
  }
 },
 "nbformat": 4,
 "nbformat_minor": 5
}
